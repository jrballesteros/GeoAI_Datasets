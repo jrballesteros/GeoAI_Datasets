{
 "cells": [
  {
   "cell_type": "markdown",
   "id": "a3bf1234",
   "metadata": {},
   "source": [
    "Spectral Augmentation"
   ]
  },
  {
   "cell_type": "code",
   "execution_count": null,
   "id": "d941be72",
   "metadata": {},
   "outputs": [],
   "source": [
    "\n",
    "import os\n",
    "import sys\n",
    "from PIL import Image, ImageEnhance\n",
    "Image.MAX_IMAGE_PIXELS = None\n",
    "\n",
    "mypath = \"\"\n",
    "myortomosaic = \"\"\n",
    "\n",
    "def change_brightness(path, ortomosaic, brightness = 2):\n",
    "    img = Image.open(os.path.join(path, ortomosaic))\n",
    "    print(img.size, img.mode)\n",
    "    enhancer = ImageEnhance.Brightness(img)\n",
    "    print(\"illumination: \"+ str(brightness))\n",
    "        \n",
    "    return enhancer.enhance(brightness).save(os.path.join(path,'Ilum_{}'.format(ortomosaic)))\n",
    "        \n",
    "\n",
    "def change_contrast(path, ortomosaic, contrast = 1.5):\n",
    "    img = Image.open(os.path.join(path, ortomosaic))\n",
    "    print(img.size, img.mode)\n",
    "    enhancer = ImageEnhance.Contrast(img)\n",
    "    print(\"contrast: \"+ str(contrast))\n",
    "    \n",
    "    return enhancer.enhance(contrast).save(os.path.join(path,'Cont_{}'.format(ortomosaic)))\n",
    "        \n",
    "change_brightness(mypath,myortomosaic)\n",
    "change_contrast(mypath,myortomosaic)\n",
    "\n"
   ]
  },
  {
   "cell_type": "markdown",
   "id": "9212fd3c",
   "metadata": {},
   "source": [
    "Geometric Augmentation"
   ]
  },
  {
   "cell_type": "code",
   "execution_count": null,
   "id": "8a8e0e7c",
   "metadata": {},
   "outputs": [],
   "source": [
    "mypath = \"\"\n",
    "imagenes = 0\n",
    "\n",
    "for f in os.listdir(mypath):\n",
    "    fname, fext = os.path.splitext(f)\n",
    "    #print(fext)\n",
    "    if fext == '.png':\n",
    "        i = Image.open(os.path.join(mypath, f))\n",
    "        print(f, i.size, i.mode)\n",
    "        #i.rotate(-90).convert('RGB').save(os.path.join(mypath,'n{}.tif'.format(fname)))\n",
    "        #i.rotate(20).convert('RGB').save(os.path.join(mypath,'n{}.tif'.format(fname)))\n",
    "        #i.transpose(Image.ROTATE_90).convert('RGB').save(os.path.join(mypath,'r{}.tif'.format(fname))) # rotacion de 90 grados (contrario a las manecillas del reloj)\n",
    "        i.transpose(Image.FLIP_TOP_BOTTOM).convert('RGB').save(os.path.join(mypath,'v{}.png'.format(fname)))\n",
    "        #i.transpose(Image.FLIP_LEFT_RIGHT).convert('RGB').save(os.path.join(mypath,'h{}.tif'.format(fname)))\n",
    "    \n",
    "        imagenes = imagenes + 1\n",
    "\n",
    "print(\"processed images: \"+ str((imagenes)))"
   ]
  },
  {
   "cell_type": "markdown",
   "id": "329b7904",
   "metadata": {},
   "source": [
    "Orthomosaics and Raster Masks Tessellation"
   ]
  },
  {
   "cell_type": "code",
   "execution_count": null,
   "id": "0bab8e1f",
   "metadata": {},
   "outputs": [],
   "source": [
    "\n",
    "savedir = \"imgs chips\"\n",
    "filename = \"orthomosaic\"\n",
    "\n",
    "img = Image.open(filename)\n",
    "width, height = img.size\n",
    "start_pos = start_x, start_y = (0, 0)\n",
    "cropped_image_size = w, h = (256,256)\n",
    "#cropped_image_size = w, h = (1500,1500)\n",
    "#cropped_image_size = w, h = (1024,1024)\n",
    "#cropped_image_size = w, h = (2000,2000)\n",
    "#cropped_image_size = w, h = (1500,1500)\n",
    "#cropped_image_size = w, h = (1000,1000)\n",
    "#cropped_image_size = w, h = (750,750)\n",
    "#cropped_image_size = w, h = (600,600)\n",
    "#cropped_image_size = w, h = (512,512)\n",
    "\n",
    "frame_num = 1\n",
    "for col_i in range(0, width, w):\n",
    "    for row_i in range(0, height, h):\n",
    "        crop = img.crop((col_i, row_i, col_i + w, row_i + h))\n",
    "        save_to= os.path.join(savedir + \"{:1}.png\")\n",
    "        crop.convert('RGB').save(save_to.format(frame_num))\n",
    "        print(frame_num, end='', flush=True)\n",
    "        frame_num += 1\n",
    "print('number of img chips of ' + str(w) + 'x' + str(h) + \n",
    "      ' produced were:', frame_num-1)\n",
    "\n",
    "\n",
    "savedir2 = \"masks chips\"\n",
    "filename2 = \"raster mask\"\n",
    "\n",
    "img = Image.open(filename2)\n",
    "width, height = img.size\n",
    "start_pos = start_x, start_y = (0, 0)\n",
    "\n",
    "frame_num = 1\n",
    "for col_i in range(0, width, w):\n",
    "    for row_i in range(0, height, h):\n",
    "        crop = img.crop((col_i, row_i, col_i + w, row_i + h))\n",
    "        save_to= os.path.join(savedir2 + \"{:1}.png\")\n",
    "        crop.save(save_to.format(frame_num))\n",
    "        print(frame_num, end='', flush=True)\n",
    "        frame_num += 1\n",
    "print('number of msk chips of ' + str(w) + 'x' + str(h) + \n",
    "      ' produced were:', frame_num-1)"
   ]
  },
  {
   "cell_type": "markdown",
   "id": "3298ca7f",
   "metadata": {},
   "source": [
    "Imbalance check and removing of imbalance masks, parameter imb %"
   ]
  },
  {
   "cell_type": "code",
   "execution_count": null,
   "id": "13884368",
   "metadata": {},
   "outputs": [],
   "source": [
    "import cv2\n",
    "import numpy as np\n",
    "\n",
    "path2 = \"msk chips\"\n",
    "path = \"img chips\"\n",
    "\n",
    "count = 0\n",
    "imb = 5\n",
    "\n",
    "print(len(os.listdir(path)))\n",
    "tot_imgs = len(os.listdir(path))\n",
    "\n",
    "for filename in (os.listdir(path)):\n",
    "    #img = Image.open(path + '\\\\' + filename)\n",
    "    img = cv2.imread(path + '/' + filename, cv2.IMREAD_GRAYSCALE)\n",
    "    n_white_pix = np.sum(img == 255)\n",
    "    n_black_pix = np.sum(img == 0)\n",
    "    if (n_white_pix/n_black_pix)*100 < imb:\n",
    "        count = count + 1\n",
    "        #print('Number of white pixels:', n_white_pix)\n",
    "        print(filename, '% of white:', round((n_white_pix/n_black_pix)*100,1))\n",
    "        os.remove(path + '/' + filename)\n",
    "        os.remove(path2 + '/' + filename)\n",
    "print(\"-> deleted img-msk:\", count)\n",
    "print(\"-> remaining img-msk:\", (tot_imgs-count))\n"
   ]
  },
  {
   "cell_type": "markdown",
   "id": "afbd4d94",
   "metadata": {},
   "source": [
    "Pairing chips into img,msk sole images"
   ]
  },
  {
   "cell_type": "code",
   "execution_count": null,
   "id": "dc53556f",
   "metadata": {},
   "outputs": [],
   "source": [
    "myfolder1 = \"imgs\"\n",
    "myfolder2 = 'msks'\n",
    "myoutfolder = \"dataset\"\n",
    "\n",
    "total_width = 512\n",
    "max_height = 256\n",
    "#total_width = 2048\n",
    "#max_height = 1024\n",
    "#total_width = 1024\n",
    "#max_height = 512\n",
    "#total_width = 1200 \n",
    "#max_height = 600\n",
    "#total_width = 1500 \n",
    "#max_height = 750\n",
    "#total_width = 3000 \n",
    "#max_height = 1500\n",
    "\n",
    "lst1 = []\n",
    "lst2 = []\n",
    "#formato = '.jpg'\n",
    "formato = '.png'\n",
    "\n",
    "new_im = Image.new('RGB', (total_width, max_height), color=(0,0,0))\n",
    "\n",
    "for count, filename in enumerate(sorted(os.listdir(myfolder1))):\n",
    "    (lst1.append(filename))\n",
    "\n",
    "for count2, filename2 in enumerate(sorted(os.listdir(myfolder2))):\n",
    "    (lst2.append(filename2))\n",
    "\n",
    "for i in range(0,len(lst1)):\n",
    "    im=Image.open(myfolder1+str(lst1[i])).convert(\"RGB\")\n",
    "    #im=Image.open(myfolder1+str(lst1[i]))\n",
    "    img=Image.open(myfolder2+str(lst2[i])).convert(\"RGB\")\n",
    "    #img=Image.open(myfolder2+str(lst2[i]))\n",
    "    new_im.paste(im, (0,0))\n",
    "    new_im.paste(img, (max_height,0))\n",
    "    new_im.save(myoutfolder + str(i+1) + formato)\n",
    "print(\"number of paired img-msk:\" + str(i+1) + ' imagenes de ' +\n",
    "      str(max_height) +' pixeles en el formato:' + formato)\n"
   ]
  },
  {
   "cell_type": "markdown",
   "id": "6c1c4f89",
   "metadata": {},
   "source": [
    "Random Spliting the dataset into train, validation and test datasets"
   ]
  },
  {
   "cell_type": "code",
   "execution_count": null,
   "id": "a2a768aa",
   "metadata": {},
   "outputs": [],
   "source": [
    "import os\n",
    "source = \"dataset\"\n",
    "dest1 = \"validation\"\n",
    "dest2 = \"test\"\n",
    "\n",
    "p1 = 0.2 # this is the percentage split value between train and validation-test\n",
    "\n",
    "files = os.listdir(source)\n",
    "import shutil\n",
    "import numpy as np\n",
    "for f in files:\n",
    "    if np.random.rand(1) < p1:\n",
    "        shutil.move(source + '/'+ f, dest1 + '/'+ f)\n",
    "\n",
    "p2 = 0.5\n",
    "files = os.listdir(dest1)\n",
    "for f in files:\n",
    "    if np.random.rand(1) < p2:\n",
    "       shutil.move(dest1 + '/'+ f, dest2 + '/'+ f)\n",
    "print(\"process finished obtaining\",p1*100,\"% for validation and\",(p1/2)*100, \"% for test\")\n"
   ]
  }
 ],
 "metadata": {
  "kernelspec": {
   "display_name": "Python [conda env:py39]",
   "language": "python",
   "name": "conda-env-py39-py"
  },
  "language_info": {
   "codemirror_mode": {
    "name": "ipython",
    "version": 3
   },
   "file_extension": ".py",
   "mimetype": "text/x-python",
   "name": "python",
   "nbconvert_exporter": "python",
   "pygments_lexer": "ipython3",
   "version": "3.9.12"
  }
 },
 "nbformat": 4,
 "nbformat_minor": 5
}
